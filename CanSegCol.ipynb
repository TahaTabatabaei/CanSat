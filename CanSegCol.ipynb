{
 "cells": [
  {
   "cell_type": "code",
   "execution_count": 2,
   "metadata": {
    "ExecuteTime": {
     "end_time": "2024-02-17T20:18:14.798123300Z",
     "start_time": "2024-02-17T20:18:11.511024800Z"
    },
    "id": "Ohy-uGrhk_6j"
   },
   "outputs": [],
   "source": [
    "import datetime\n",
    "import os\n",
    "import pickle\n",
    "import glob\n",
    "from pathlib import Path\n",
    "\n",
    "import cv2\n",
    "import faiss\n",
    "import matplotlib.pyplot as plt\n",
    "import numpy as np\n",
    "\n",
    "from sklearn.metrics import  davies_bouldin_score, calinski_harabasz_score\n",
    "from sklearn.preprocessing import MinMaxScaler\n"
   ]
  },
  {
   "cell_type": "code",
   "execution_count": 3,
   "metadata": {},
   "outputs": [],
   "source": [
    "source_path = \"E:/taha/code/CanSat/images\"\n",
    "\n",
    "images = []\n",
    "\n",
    "frames = Path(source_path)\n",
    "for path in frames.glob('*.jpg'):\n",
    "\n",
    "    image = cv2.imread(str(path))\n",
    "    images.append(image)\n",
    "\n",
    "shape = images[0].shape    "
   ]
  },
  {
   "cell_type": "code",
   "execution_count": 4,
   "metadata": {},
   "outputs": [],
   "source": [
    "Size = len(images)\n",
    "\n",
    "images = np.asarray(images)\n",
    "images = images.reshape(images.shape[0], -1)"
   ]
  },
  {
   "cell_type": "code",
   "execution_count": 5,
   "metadata": {
    "ExecuteTime": {
     "end_time": "2024-02-17T20:18:15.715910500Z",
     "start_time": "2024-02-17T20:18:15.714910700Z"
    },
    "colab": {
     "base_uri": "https://localhost:8080/"
    },
    "id": "uabEJxMv7kTx",
    "outputId": "25308bee-0d83-4d2e-a1c1-ed6bac256a05"
   },
   "outputs": [
    {
     "data": {
      "text/plain": [
       "(3456, 5184, 3)"
      ]
     },
     "execution_count": 5,
     "metadata": {},
     "output_type": "execute_result"
    }
   ],
   "source": [
    "# images.shape\n",
    "shape"
   ]
  },
  {
   "cell_type": "code",
   "execution_count": 6,
   "metadata": {
    "ExecuteTime": {
     "end_time": "2024-02-17T20:18:15.718910600Z",
     "start_time": "2024-02-17T20:18:15.715910500Z"
    },
    "collapsed": false
   },
   "outputs": [],
   "source": [
    "row_indices = np.arange(0, shape[1])\n",
    "column_indices = np.arange(0, shape[0])\n",
    "\n",
    "row_mesh, column_mesh = np.meshgrid(row_indices, column_indices)\n",
    "\n",
    "index_array = np.stack([column_mesh, row_mesh], axis=-1)\n",
    "\n",
    "hsv_image = np.zeros((images.shape[0], shape[0], shape[1], 5))\n",
    "\n",
    "images = images.reshape(Size, shape[0], shape[1], shape[2])\n",
    "for i in range(Size):\n",
    "    temp = cv2.cvtColor(images[i], cv2.COLOR_BGR2HSV)\n",
    "    hsv_image[i] = np.concatenate((temp, index_array), axis=2)\n",
    "\n",
    "images = images.reshape(Size, shape[0] * shape[1] * shape[2])"
   ]
  },
  {
   "cell_type": "code",
   "execution_count": 7,
   "metadata": {
    "ExecuteTime": {
     "end_time": "2023-12-21T14:24:24.407016100Z",
     "start_time": "2023-12-21T14:24:24.363116Z"
    },
    "collapsed": false
   },
   "outputs": [
    {
     "data": {
      "text/plain": [
       "array([[1.000e+01, 7.900e+01, 1.070e+02, 0.000e+00, 0.000e+00],\n",
       "       [1.000e+01, 7.700e+01, 1.090e+02, 0.000e+00, 1.000e+00],\n",
       "       [1.000e+01, 7.900e+01, 1.070e+02, 0.000e+00, 2.000e+00],\n",
       "       ...,\n",
       "       [1.100e+01, 6.600e+01, 1.350e+02, 3.455e+03, 5.181e+03],\n",
       "       [1.100e+01, 6.500e+01, 1.380e+02, 3.455e+03, 5.182e+03],\n",
       "       [1.100e+01, 6.500e+01, 1.370e+02, 3.455e+03, 5.183e+03]])"
      ]
     },
     "execution_count": 7,
     "metadata": {},
     "output_type": "execute_result"
    }
   ],
   "source": [
    "hsv_image.reshape(Size, shape[0] * shape[1], 5)[0]"
   ]
  },
  {
   "cell_type": "code",
   "execution_count": 8,
   "metadata": {
    "ExecuteTime": {
     "end_time": "2023-12-21T14:59:41.931735600Z",
     "start_time": "2023-12-21T14:59:41.913320800Z"
    },
    "colab": {
     "base_uri": "https://localhost:8080/"
    },
    "id": "ztsrzGjY7kTx",
    "outputId": "6a0c51a1-f0c3-4b21-b598-0400cd162820"
   },
   "outputs": [],
   "source": [
    "images_shape = hsv_image.shape"
   ]
  },
  {
   "cell_type": "code",
   "execution_count": 9,
   "metadata": {
    "ExecuteTime": {
     "end_time": "2023-12-21T14:59:42.551642300Z",
     "start_time": "2023-12-21T14:59:42.542113500Z"
    },
    "collapsed": false
   },
   "outputs": [],
   "source": [
    "def set_priority(arr, color, pos):\n",
    "    color_columns = np.tile(arr[:, :3], (1, color))\n",
    "    pos_columns = np.tile(arr[:, 3:], (1, pos))\n",
    "    duplicated_arr = np.concatenate((color_columns, pos_columns), axis=1)\n",
    "\n",
    "    return duplicated_arr"
   ]
  },
  {
   "cell_type": "code",
   "execution_count": 10,
   "metadata": {
    "ExecuteTime": {
     "end_time": "2023-12-21T14:59:57.259714800Z",
     "start_time": "2023-12-21T14:59:45.383650600Z"
    },
    "collapsed": false
   },
   "outputs": [],
   "source": [
    "hsv_image = hsv_image.reshape(images_shape[0] * images_shape[1] * images_shape[2], images_shape[3])\n",
    "\n",
    "minMaxScaler = MinMaxScaler()\n",
    "minMaxScaler.fit(hsv_image)\n",
    "\n",
    "hsv_image = hsv_image.reshape(images_shape[0], images_shape[1] * images_shape[2], images_shape[3])"
   ]
  },
  {
   "cell_type": "code",
   "execution_count": 11,
   "metadata": {},
   "outputs": [],
   "source": [
    "k1 = 15\n",
    "color = 1\n",
    "pos = 5"
   ]
  },
  {
   "cell_type": "code",
   "execution_count": 12,
   "metadata": {
    "ExecuteTime": {
     "end_time": "2023-12-21T16:30:12.990742900Z",
     "start_time": "2023-12-21T16:30:12.970786400Z"
    },
    "collapsed": false
   },
   "outputs": [],
   "source": [
    "rgb_codes = [\n",
    "    (255, 0, 0),  # Red\n",
    "    (0, 255, 0),  # Green\n",
    "    (0, 0, 255),  # Blue\n",
    "    (255, 255, 0),  # Yellow\n",
    "    (0, 255, 255),  # Cyan\n",
    "    (255, 0, 255),  # Magenta\n",
    "    (255, 165, 0),  # Orange\n",
    "    (128, 0, 128),  # Purple\n",
    "    (0, 128, 128),  # Teal\n",
    "    (255, 192, 203),  # Pink\n",
    "    (190, 255, 0),  # Lime\n",
    "    (165, 42, 42),  # Brown\n",
    "    (255, 215, 0),  # Gold\n",
    "    (112, 128, 144),  # Slate Gray\n",
    "    (128, 128, 0)  # Olive\n",
    "]\n",
    "\n",
    "# target color to look for\n",
    "target_color = np.array([0,0,255])"
   ]
  },
  {
   "cell_type": "code",
   "execution_count": 13,
   "metadata": {
    "ExecuteTime": {
     "start_time": "2023-12-21T13:15:38.575640800Z"
    },
    "collapsed": false
   },
   "outputs": [
    {
     "name": "stdout",
     "output_type": "stream",
     "text": [
      "image 0 2024-05-20 20:07:12.533471\n",
      "2783107\n",
      "image 1 2024-05-20 20:07:45.592612\n",
      "2877996\n",
      "image 2 2024-05-20 20:08:19.628537\n",
      "2747468\n"
     ]
    }
   ],
   "source": [
    "if not os.path.isdir(f'colors'):\n",
    "    os.mkdir(f'colors')\n",
    "if not os.path.isdir(f'colors/k{k1}_color{color}_pos{pos}'):\n",
    "    os.mkdir(f'colors/k{k1}_color{color}_pos{pos}')\n",
    "else:\n",
    "    if os.path.exists(f'colors/k{k1}_color{color}_pos{pos}/res.csv'):\n",
    "        os.remove(f'colors/k{k1}_color{color}_pos{pos}/res.csv')\n",
    "\n",
    "list_of_all_clusters = []\n",
    "\n",
    "for image in range(images_shape[0]):\n",
    "    print(f'image {image} {datetime.datetime.now()}')\n",
    "\n",
    "    hsv_image_scaled = minMaxScaler.transform(hsv_image[image])\n",
    "    hsv_image_scaled = set_priority(hsv_image_scaled, color, pos)\n",
    "\n",
    "    kmeans = faiss.Kmeans(d=hsv_image_scaled.shape[1], k=k1, nredo=4) # d =(color*3 + pos*2)\n",
    "    kmeans.train(hsv_image_scaled)\n",
    "    # print(f\"d = {hsv_image.shape}\")\n",
    "\n",
    "    list_of_all_clusters.append(kmeans.assign(hsv_image_scaled)[1])\n",
    "\n",
    "    clusters = [[] for i in range(k1)]\n",
    "    for index, value in enumerate(list_of_all_clusters[-1]):\n",
    "        clusters[value].append(hsv_image[image, index])\n",
    "\n",
    "    labels_for_segment_image = list_of_all_clusters[-1].reshape(shape[0], shape[1])\n",
    "    # print(f\"labels shape = {labels_for_segment_image.shape}\")\n",
    "    centers = kmeans.centroids\n",
    "\n",
    "    segmented_image = np.zeros((shape[0], shape[1], 3), dtype=np.float32)\n",
    "    for i in range(k1):\n",
    "        segmented_image[labels_for_segment_image == i] = np.array(rgb_codes[i]) / 255\n",
    "        # print(f\"segmented_image shape = {labels_for_segment_image == i}\")\n",
    "\n",
    "    plt.imshow(segmented_image)\n",
    "    plt.savefig(f'colors/k{k1}_color{color}_pos{pos}/RGB{image}.jpg')\n",
    "    plt.close()\n",
    "\n",
    "    segmented_image = np.zeros((shape[0], shape[1], 3), dtype=np.float32)\n",
    "    for i in range(k1):\n",
    "        segmented_image[labels_for_segment_image == i] = centers[i][0]\n",
    "        # print(f\"centers = {centers[i][8]}\")\n",
    "\n",
    "    plt.imshow(cv2.cvtColor(segmented_image, cv2.COLOR_HSV2BGR))\n",
    "    plt.savefig(f'colors/k{k1}_color{color}_pos{pos}/HSV{image}.jpg')\n",
    "    plt.close()\n",
    "\n",
    "    # color check\n",
    "    min_distance = np.inf\n",
    "    target_k = -1\n",
    "    original_image = images[image].reshape(shape)\n",
    "    original_image = cv2.cvtColor(original_image, cv2.COLOR_BGR2RGB)\n",
    "    segmented_image = np.zeros((shape[0], shape[1], 3), dtype=np.float32)\n",
    "    for i in range(k1):\n",
    "        segmented_image[labels_for_segment_image == i] = original_image[labels_for_segment_image == i] / 255\n",
    "        distance = np.linalg.norm(segmented_image - (target_color/255))\n",
    "        if distance < min_distance:\n",
    "            min_distance = distance\n",
    "            target_k = i\n",
    "        # print(f\"tk = {target_k}, d = {distance}\")\n",
    "        segmented_image = np.zeros((shape[0], shape[1], 3), dtype=np.float32)\n",
    "    segmented_image[labels_for_segment_image == target_k] = original_image[labels_for_segment_image == target_k] / 255\n",
    "    print(np.count_nonzero(segmented_image))\n",
    "\n",
    "    np.savez_compressed(f'colors/k{k1}_color{color}_pos{pos}/target{image}.npz',segmented_image=segmented_image)\n",
    "\n",
    "    plt.imshow(segmented_image)\n",
    "    # plt.imshow(cv2.cvtColor(segmented_image, cv2.COLOR_BGR2RGB))\n",
    "    plt.savefig(f'colors/k{k1}_color{color}_pos{pos}/target{image}.jpg')\n",
    "    plt.close()\n"
   ]
  },
  {
   "cell_type": "markdown",
   "metadata": {},
   "source": [
    "## area"
   ]
  },
  {
   "cell_type": "code",
   "execution_count": 14,
   "metadata": {},
   "outputs": [
    {
     "name": "stdout",
     "output_type": "stream",
     "text": [
      "image 0 2024-05-20 20:08:52.493177\n",
      "d = (3456, 5184, 3)\n",
      "pixels = 2747468, Area = 109898719999.99998\n",
      "image 1 2024-05-20 20:08:52.643373\n",
      "d = (3456, 5184, 3)\n",
      "pixels = 2747468, Area = 109898719999.99998\n",
      "image 2 2024-05-20 20:08:52.796897\n",
      "d = (3456, 5184, 3)\n",
      "pixels = 2747468, Area = 109898719999.99998\n"
     ]
    }
   ],
   "source": [
    "for image in range(images_shape[0]):\n",
    "    print(f'image {image} {datetime.datetime.now()}')\n",
    "    \n",
    "    # npz = np.load(f'colors/k{k1}_color{color}_pos{pos}/target{image}.npz')\n",
    "    # segmented_image = npz[\"segmented_image\"]\n",
    "    print(f'd = {segmented_image.shape}')\n",
    "    pixs = np.count_nonzero(segmented_image)\n",
    "\n",
    "    H = 200\n",
    "    f = 0.00474 # 4.74 mm\n",
    "\n",
    "    Area_real = pixs*H*H/f*f\n",
    "\n",
    "    print(f\"pixels = {pixs}, Area = {Area_real}\")"
   ]
  },
  {
   "cell_type": "code",
   "execution_count": 30,
   "metadata": {},
   "outputs": [
    {
     "name": "stdout",
     "output_type": "stream",
     "text": [
      "image 0 2024-05-20 20:40:52.546739\n",
      "pixel area um^2: 1.9599999999999997\n",
      "pixel width in um: 1.4\n",
      "pixels = 2783107, Area = 0.21819558879999998\n",
      "Area_image = 5.454889719999999e-06, s = 40000.0\n",
      "image 1 2024-05-20 20:40:53.292070\n",
      "pixel area um^2: 1.9599999999999997\n",
      "pixel width in um: 1.4\n",
      "pixels = 2877996, Area = 0.22563488639999998\n",
      "Area_image = 5.6408721599999995e-06, s = 40000.0\n",
      "image 2 2024-05-20 20:40:54.007920\n",
      "pixel area um^2: 1.9599999999999997\n",
      "pixel width in um: 1.4\n",
      "pixels = 2747468, Area = 0.21540149119999996\n",
      "Area_image = 5.385037279999999e-06, s = 40000.0\n"
     ]
    }
   ],
   "source": [
    "import math\n",
    "\n",
    "for image in range(images_shape[0]):\n",
    "    print(f'image {image} {datetime.datetime.now()}')\n",
    "    \n",
    "    npz = np.load(f'colors/k{k1}_color{color}_pos{pos}/target{image}.npz')\n",
    "    segmented_image = npz[\"segmented_image\"]\n",
    "    # print(f'd = {segmented_image.shape}')\n",
    "    pixs = np.count_nonzero(segmented_image)\n",
    "\n",
    "    H = 200 # meter\n",
    "    # f = 0.00474 # 4.74 mm\n",
    "    f = 0.035 # 35 mm\n",
    "\n",
    "    # sensor_size = 0.0025 # 25 mm^2\n",
    "    # pixel_area = sensor_size/(segmented_image.shape[0]*segmented_image.shape[1])\n",
    "    # pixel_width = math.sqrt(pixel_area)\n",
    "\n",
    "    pixel_width = 0.0000014 # 1.4 um\n",
    "    pixel_area = pixel_width**2\n",
    "    # print(pixel_area,pixel_size)\n",
    "    print(\"pixel area um^2:\",(pixel_area*1000000000000))\n",
    "    print(\"pixel width in um:\",(pixel_width*1000000))\n",
    "\n",
    "    s = H*H/f*f\n",
    "    Area_image = pixel_area*pixs\n",
    "    Area_real = (Area_image)*(s)\n",
    "\n",
    "    print(f\"pixels = {pixs}, Area = {Area_real}\")\n",
    "    print(f'Area_image = {Area_image}, s = {s}')"
   ]
  }
 ],
 "metadata": {
  "accelerator": "GPU",
  "colab": {
   "gpuType": "T4",
   "provenance": []
  },
  "kernelspec": {
   "display_name": "Python 3 (ipykernel)",
   "language": "python",
   "name": "python3"
  },
  "language_info": {
   "codemirror_mode": {
    "name": "ipython",
    "version": 3
   },
   "file_extension": ".py",
   "mimetype": "text/x-python",
   "name": "python",
   "nbconvert_exporter": "python",
   "pygments_lexer": "ipython3",
   "version": "3.10.2"
  }
 },
 "nbformat": 4,
 "nbformat_minor": 1
}
