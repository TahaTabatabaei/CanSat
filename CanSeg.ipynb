{
 "cells": [
  {
   "cell_type": "code",
   "execution_count": 1,
   "metadata": {
    "ExecuteTime": {
     "end_time": "2024-02-17T20:18:14.798123300Z",
     "start_time": "2024-02-17T20:18:11.511024800Z"
    },
    "id": "Ohy-uGrhk_6j"
   },
   "outputs": [],
   "source": [
    "import datetime\n",
    "import os\n",
    "import pickle\n",
    "import glob\n",
    "from pathlib import Path\n",
    "\n",
    "import cv2\n",
    "import faiss\n",
    "import matplotlib.pyplot as plt\n",
    "import numpy as np\n",
    "\n",
    "from sklearn.metrics import  davies_bouldin_score, calinski_harabasz_score\n",
    "from sklearn.preprocessing import MinMaxScaler\n"
   ]
  },
  {
   "cell_type": "code",
   "execution_count": 2,
   "metadata": {},
   "outputs": [],
   "source": [
    "source_path = \"E:/taha/code/CanSat/images\"\n",
    "\n",
    "images = []\n",
    "\n",
    "frames = Path(source_path)\n",
    "for path in frames.glob('*.jpg'):\n",
    "\n",
    "    image = cv2.imread(str(path))\n",
    "    images.append(image)\n",
    "\n",
    "shape = images[0].shape    "
   ]
  },
  {
   "cell_type": "code",
   "execution_count": 3,
   "metadata": {},
   "outputs": [],
   "source": [
    "Size = len(images)\n",
    "\n",
    "images = np.asarray(images)\n",
    "images = images.reshape(images.shape[0], -1)"
   ]
  },
  {
   "cell_type": "code",
   "execution_count": 4,
   "metadata": {
    "ExecuteTime": {
     "end_time": "2024-02-17T20:18:15.715910500Z",
     "start_time": "2024-02-17T20:18:15.714910700Z"
    },
    "colab": {
     "base_uri": "https://localhost:8080/"
    },
    "id": "uabEJxMv7kTx",
    "outputId": "25308bee-0d83-4d2e-a1c1-ed6bac256a05"
   },
   "outputs": [
    {
     "data": {
      "text/plain": [
       "(3456, 5184, 3)"
      ]
     },
     "execution_count": 4,
     "metadata": {},
     "output_type": "execute_result"
    }
   ],
   "source": [
    "# images.shape\n",
    "shape"
   ]
  },
  {
   "cell_type": "code",
   "execution_count": 5,
   "metadata": {
    "ExecuteTime": {
     "end_time": "2024-02-17T20:18:15.718910600Z",
     "start_time": "2024-02-17T20:18:15.715910500Z"
    },
    "collapsed": false
   },
   "outputs": [],
   "source": [
    "row_indices = np.arange(0, shape[1])\n",
    "column_indices = np.arange(0, shape[0])\n",
    "\n",
    "row_mesh, column_mesh = np.meshgrid(row_indices, column_indices)\n",
    "\n",
    "index_array = np.stack([column_mesh, row_mesh], axis=-1)\n",
    "\n",
    "hsv_image = np.zeros((images.shape[0], shape[0], shape[1], 5))\n",
    "\n",
    "images = images.reshape(Size, shape[0], shape[1], shape[2])\n",
    "for i in range(Size):\n",
    "    temp = cv2.cvtColor(images[i], cv2.COLOR_BGR2HSV)\n",
    "    hsv_image[i] = np.concatenate((temp, index_array), axis=2)\n",
    "\n",
    "images = images.reshape(Size, shape[0] * shape[1] * shape[2])"
   ]
  },
  {
   "cell_type": "code",
   "execution_count": 6,
   "metadata": {
    "ExecuteTime": {
     "end_time": "2023-12-21T14:24:24.407016100Z",
     "start_time": "2023-12-21T14:24:24.363116Z"
    },
    "collapsed": false
   },
   "outputs": [
    {
     "data": {
      "text/plain": [
       "array([[1.000e+01, 7.900e+01, 1.070e+02, 0.000e+00, 0.000e+00],\n",
       "       [1.000e+01, 7.700e+01, 1.090e+02, 0.000e+00, 1.000e+00],\n",
       "       [1.000e+01, 7.900e+01, 1.070e+02, 0.000e+00, 2.000e+00],\n",
       "       ...,\n",
       "       [1.100e+01, 6.600e+01, 1.350e+02, 3.455e+03, 5.181e+03],\n",
       "       [1.100e+01, 6.500e+01, 1.380e+02, 3.455e+03, 5.182e+03],\n",
       "       [1.100e+01, 6.500e+01, 1.370e+02, 3.455e+03, 5.183e+03]])"
      ]
     },
     "execution_count": 6,
     "metadata": {},
     "output_type": "execute_result"
    }
   ],
   "source": [
    "hsv_image.reshape(Size, shape[0] * shape[1], 5)[0]"
   ]
  },
  {
   "cell_type": "code",
   "execution_count": 7,
   "metadata": {
    "ExecuteTime": {
     "end_time": "2023-12-21T14:59:41.931735600Z",
     "start_time": "2023-12-21T14:59:41.913320800Z"
    },
    "colab": {
     "base_uri": "https://localhost:8080/"
    },
    "id": "ztsrzGjY7kTx",
    "outputId": "6a0c51a1-f0c3-4b21-b598-0400cd162820"
   },
   "outputs": [],
   "source": [
    "images_shape = hsv_image.shape"
   ]
  },
  {
   "cell_type": "code",
   "execution_count": 8,
   "metadata": {
    "ExecuteTime": {
     "end_time": "2023-12-21T14:59:42.551642300Z",
     "start_time": "2023-12-21T14:59:42.542113500Z"
    },
    "collapsed": false
   },
   "outputs": [],
   "source": [
    "def set_priority(arr, color, pos):\n",
    "    color_columns = np.tile(arr[:, :3], (1, color))\n",
    "    pos_columns = np.tile(arr[:, 3:], (1, pos))\n",
    "    duplicated_arr = np.concatenate((color_columns, pos_columns), axis=1)\n",
    "\n",
    "    return duplicated_arr"
   ]
  },
  {
   "cell_type": "code",
   "execution_count": 9,
   "metadata": {
    "ExecuteTime": {
     "end_time": "2023-12-21T14:59:57.259714800Z",
     "start_time": "2023-12-21T14:59:45.383650600Z"
    },
    "collapsed": false
   },
   "outputs": [],
   "source": [
    "hsv_image = hsv_image.reshape(images_shape[0] * images_shape[1] * images_shape[2], images_shape[3])\n",
    "\n",
    "minMaxScaler = MinMaxScaler()\n",
    "minMaxScaler.fit(hsv_image)\n",
    "\n",
    "hsv_image = hsv_image.reshape(images_shape[0], images_shape[1] * images_shape[2], images_shape[3])"
   ]
  },
  {
   "cell_type": "code",
   "execution_count": 44,
   "metadata": {},
   "outputs": [],
   "source": [
    "k1 = 15\n",
    "color = 1\n",
    "pos = 5"
   ]
  },
  {
   "cell_type": "code",
   "execution_count": 45,
   "metadata": {
    "ExecuteTime": {
     "end_time": "2023-12-21T16:30:12.990742900Z",
     "start_time": "2023-12-21T16:30:12.970786400Z"
    },
    "collapsed": false
   },
   "outputs": [],
   "source": [
    "rgb_codes = [\n",
    "    (255, 0, 0),  # Red\n",
    "    (0, 255, 0),  # Green\n",
    "    (0, 0, 255),  # Blue\n",
    "    (255, 255, 0),  # Yellow\n",
    "    (0, 255, 255),  # Cyan\n",
    "    (255, 0, 255),  # Magenta\n",
    "    (255, 165, 0),  # Orange\n",
    "    (128, 0, 128),  # Purple\n",
    "    (0, 128, 128),  # Teal\n",
    "    (255, 192, 203),  # Pink\n",
    "    (190, 255, 0),  # Lime\n",
    "    (165, 42, 42),  # Brown\n",
    "    (255, 215, 0),  # Gold\n",
    "    (112, 128, 144),  # Slate Gray\n",
    "    (128, 128, 0)  # Olive\n",
    "]"
   ]
  },
  {
   "cell_type": "code",
   "execution_count": 46,
   "metadata": {
    "ExecuteTime": {
     "start_time": "2023-12-21T13:15:38.575640800Z"
    },
    "collapsed": false
   },
   "outputs": [
    {
     "name": "stdout",
     "output_type": "stream",
     "text": [
      "image 0 2024-04-22 02:16:24.208368\n",
      "centers = 0.42524048686027527\n",
      "centers = 0.6247732639312744\n",
      "centers = 0.8960421681404114\n",
      "centers = 0.38515159487724304\n",
      "centers = 0.15749256312847137\n",
      "centers = 0.1674686223268509\n",
      "centers = 0.8612996339797974\n",
      "centers = 0.6052494049072266\n",
      "centers = 0.3471258878707886\n",
      "centers = 0.8729769587516785\n",
      "centers = 0.12054547667503357\n",
      "centers = 0.8294789791107178\n",
      "centers = 0.6002093553543091\n",
      "centers = 0.12625443935394287\n",
      "centers = 0.43374350666999817\n",
      "image 1 2024-04-22 02:17:21.178789\n",
      "centers = 0.4330086410045624\n",
      "centers = 0.610592246055603\n",
      "centers = 0.887458086013794\n",
      "centers = 0.3538898229598999\n",
      "centers = 0.15135885775089264\n",
      "centers = 0.15894363820552826\n",
      "centers = 0.8837361335754395\n",
      "centers = 0.6184254288673401\n",
      "centers = 0.3356024920940399\n",
      "centers = 0.888658881187439\n",
      "centers = 0.11553747951984406\n",
      "centers = 0.6720091700553894\n",
      "centers = 0.651358962059021\n",
      "centers = 0.12054523825645447\n",
      "centers = 0.41314515471458435\n",
      "image 2 2024-04-22 02:18:22.827055\n",
      "centers = 0.1440272331237793\n",
      "centers = 0.12524034082889557\n",
      "centers = 0.8848130106925964\n",
      "centers = 0.3585984408855438\n",
      "centers = 0.14941948652267456\n",
      "centers = 0.5870001316070557\n",
      "centers = 0.17558176815509796\n",
      "centers = 0.5999293923377991\n",
      "centers = 0.3803657591342926\n",
      "centers = 0.41234052181243896\n",
      "centers = 0.6587982177734375\n",
      "centers = 0.8532907962799072\n",
      "centers = 0.522868812084198\n",
      "centers = 0.8900101780891418\n",
      "centers = 0.8506160378456116\n"
     ]
    }
   ],
   "source": [
    "if not os.path.isdir(f'results'):\n",
    "    os.mkdir(f'results')\n",
    "if not os.path.isdir(f'results/k{k1}_color{color}_pos{pos}'):\n",
    "    os.mkdir(f'results/k{k1}_color{color}_pos{pos}')\n",
    "else:\n",
    "    if os.path.exists(f'results/k{k1}_color{color}_pos{pos}/res.csv'):\n",
    "        os.remove(f'results/k{k1}_color{color}_pos{pos}/res.csv')\n",
    "\n",
    "list_of_all_clusters = []\n",
    "\n",
    "for image in range(images_shape[0]):\n",
    "    print(f'image {image} {datetime.datetime.now()}')\n",
    "\n",
    "    hsv_image_scaled = minMaxScaler.transform(hsv_image[image])\n",
    "    hsv_image_scaled = set_priority(hsv_image_scaled, color, pos)\n",
    "\n",
    "    kmeans = faiss.Kmeans(d=hsv_image_scaled.shape[1], k=k1, nredo=4) # d =(color*3 + pos*2)\n",
    "    kmeans.train(hsv_image_scaled)\n",
    "    # print(f\"d = {hsv_image.shape}\")\n",
    "\n",
    "    list_of_all_clusters.append(kmeans.assign(hsv_image_scaled)[1])\n",
    "\n",
    "    clusters = [[] for i in range(k1)]\n",
    "    for index, value in enumerate(list_of_all_clusters[-1]):\n",
    "        clusters[value].append(hsv_image[image, index])\n",
    "\n",
    "    labels_for_segment_image = list_of_all_clusters[-1].reshape(shape[0], shape[1])\n",
    "    # print(f\"labels shape = {labels_for_segment_image.shape}\")\n",
    "    centers = kmeans.centroids\n",
    "\n",
    "    segmented_image = np.zeros((shape[0], shape[1], 3), dtype=np.float32)\n",
    "    for i in range(k1):\n",
    "        segmented_image[labels_for_segment_image == i] = np.array(rgb_codes[i]) / 255\n",
    "        # print(f\"segmented_image shape = {labels_for_segment_image == i}\")\n",
    "\n",
    "    plt.imshow(segmented_image)\n",
    "    plt.savefig(f'results/k{k1}_color{color}_pos{pos}/RGB{image}.jpg')\n",
    "    plt.close()\n",
    "\n",
    "    segmented_image = np.zeros((shape[0], shape[1], 3), dtype=np.float32)\n",
    "    for i in range(k1):\n",
    "        segmented_image[labels_for_segment_image == i] = centers[i][0]\n",
    "        # print(f\"centers = {centers[i][8]}\")\n",
    "\n",
    "    plt.imshow(cv2.cvtColor(segmented_image, cv2.COLOR_HSV2BGR))\n",
    "    plt.savefig(f'results/k{k1}_color{color}_pos{pos}/HSV{image}.jpg')\n",
    "    plt.close()\n",
    "\n",
    "    avg_dis_cluster = np.zeros(k1)\n",
    "    for index, cluster in enumerate(clusters):\n",
    "        cluster_array = np.array(cluster)\n",
    "        mean = np.mean(cluster_array, axis=0)\n",
    "        avg_dis_cluster[index] = np.sum(np.abs(cluster_array[:, -2:] - mean[-2:]), axis=1).mean()\n",
    "    plt.plot(avg_dis_cluster)\n",
    "    plt.title(f\"average of cluster distance {image}\")\n",
    "    plt.savefig(f'results/k{k1}_color{color}_pos{pos}/{image}.avg_dis_cluster.jpg')\n",
    "    plt.close()\n",
    "    avg_distance1 = np.sum(np.abs(np.subtract.outer(avg_dis_cluster, avg_dis_cluster))) / (\n",
    "            avg_dis_cluster.shape[0] * (avg_dis_cluster.shape[0] - 1))\n",
    "\n",
    "    avg_hsv_cluster = np.zeros(k1)\n",
    "    for index, cluster in enumerate(clusters):\n",
    "        cluster_array = np.array(cluster)\n",
    "        mean = np.mean(cluster_array, axis=0)\n",
    "        avg_hsv_cluster[index] = np.sum(np.abs(cluster_array[:, :3] - mean[:3]), axis=1).mean()\n",
    "\n",
    "    plt.plot(avg_hsv_cluster)\n",
    "    plt.title(f\"average of cluster hsv {image}\")\n",
    "    plt.savefig(f'results/k{k1}_color{color}_pos{pos}/{image}.avg_hsv_cluster.jpg')\n",
    "    plt.close()\n",
    "    avg_distance2 = np.sum(np.abs(np.subtract.outer(avg_hsv_cluster, avg_hsv_cluster))) / (\n",
    "            avg_hsv_cluster.shape[0] * (avg_hsv_cluster.shape[0] - 1))\n",
    "\n",
    "    size_of_cluster = np.array([len(i) for i in clusters])\n",
    "\n",
    "    plt.plot(size_of_cluster)\n",
    "    plt.title(f\"size of cluster {image}\")\n",
    "    plt.savefig(f'results/k{k1}_color{color}_pos{pos}/{image}.size_of_cluster.jpg')\n",
    "    plt.close()\n",
    "    avg_distance3 = np.sum(np.abs(np.subtract.outer(size_of_cluster, size_of_cluster))) / (\n",
    "            size_of_cluster.shape[0] * (size_of_cluster.shape[0] - 1))\n",
    "    with open(f'results/k{k1}_color{color}_pos{pos}/res.csv', 'a') as csv_file:\n",
    "        csv_file.write(\n",
    "            f'{avg_distance1},{avg_distance2},{avg_distance3},{davies_bouldin_score(hsv_image_scaled, list_of_all_clusters[-1])},{calinski_harabasz_score(hsv_image_scaled, list_of_all_clusters[-1])}\\n')\n",
    "    del size_of_cluster, segmented_image, avg_hsv_cluster, avg_dis_cluster, kmeans, clusters, centers, cluster_array, mean, avg_distance1, avg_distance2, avg_distance3, hsv_image_scaled\n",
    "\n",
    "\n",
    "means = np.mean(np.genfromtxt(f'results/k{k1}_color{color}_pos{pos}/res.csv', delimiter=','), axis=0)\n",
    "with open('res.csv', 'a') as csv_file:\n",
    "    csv_file.write(f'k{k1}_color{color}_pos{pos},{means[0]},{means[1]},{means[2]},{means[3]},{means[4]}\\n')"
   ]
  }
 ],
 "metadata": {
  "accelerator": "GPU",
  "colab": {
   "gpuType": "T4",
   "provenance": []
  },
  "kernelspec": {
   "display_name": "Python 3 (ipykernel)",
   "language": "python",
   "name": "python3"
  },
  "language_info": {
   "codemirror_mode": {
    "name": "ipython",
    "version": 3
   },
   "file_extension": ".py",
   "mimetype": "text/x-python",
   "name": "python",
   "nbconvert_exporter": "python",
   "pygments_lexer": "ipython3",
   "version": "3.10.2"
  }
 },
 "nbformat": 4,
 "nbformat_minor": 1
}
